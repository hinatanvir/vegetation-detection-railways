{
 "cells": [
  {
   "cell_type": "code",
   "execution_count": 1,
   "id": "65e23ad8",
   "metadata": {},
   "outputs": [],
   "source": [
    "import os\n",
    "import numpy as np \n",
    "import pandas as pd\n",
    "from PIL import Image\n",
    "import cv2\n",
    "import glob"
   ]
  },
  {
   "cell_type": "code",
   "execution_count": 6,
   "id": "d921a6cc",
   "metadata": {},
   "outputs": [],
   "source": [
    "new_folder = 'C:/Users/himan/Downloads/VegetationMonitoring/Resized/Images/'\n",
    "for file in [x for x in glob.glob(\"C:/Users/himan/Downloads/VegetationMonitoring/rs19_val/jpgs/rs19_val/*.jpg\")]:\n",
    "        im = Image.open(file)\n",
    "        #img = im.convert('RGB')\n",
    "        new_img = im.resize((256,256))\n",
    "        new_img.save(os.path.join(new_folder, file), 'JPEG', optimize=True)"
   ]
  },
  {
   "cell_type": "code",
   "execution_count": 7,
   "id": "ef7a95b9",
   "metadata": {},
   "outputs": [],
   "source": [
    "for file in [x for x in glob.glob(\"C:/Users/himan/Downloads/VegetationMonitoring/rs19_val/uint8/rs19_val/*.png\")]:\n",
    "        im = Image.open(file)\n",
    "        #img = im.convert('RGB')\n",
    "        new_img = im.resize((256,256))\n",
    "        new_img.save(os.path.join('C:/Users/himan/Downloads/VegetationMonitoring/Resized/Masks/', file), 'PNG', optimize=True)"
   ]
  }
 ],
 "metadata": {
  "kernelspec": {
   "display_name": "Python 3 (ipykernel)",
   "language": "python",
   "name": "python3"
  },
  "language_info": {
   "codemirror_mode": {
    "name": "ipython",
    "version": 3
   },
   "file_extension": ".py",
   "mimetype": "text/x-python",
   "name": "python",
   "nbconvert_exporter": "python",
   "pygments_lexer": "ipython3",
   "version": "3.9.7"
  }
 },
 "nbformat": 4,
 "nbformat_minor": 5
}
